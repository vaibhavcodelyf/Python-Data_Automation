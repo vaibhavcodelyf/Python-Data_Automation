{
 "cells": [
  {
   "cell_type": "markdown",
   "id": "59eda100-b54f-46d5-8e6d-38df3512f109",
   "metadata": {},
   "source": [
    "Download Excel from email/FTP and update the dashboard."
   ]
  },
  {
   "cell_type": "code",
   "execution_count": null,
   "id": "b25a073e-3398-421d-a28c-687a6617bb70",
   "metadata": {},
   "outputs": [],
   "source": [
    "import requests\n",
    "import pandas as pd"
   ]
  },
  {
   "cell_type": "code",
   "execution_count": null,
   "id": "e6449e21-26fb-4676-87f1-45215f1f7ac7",
   "metadata": {},
   "outputs": [],
   "source": [
    "url = \"https://example.com/data.xlsx\"\n",
    "response = requests.get(url)"
   ]
  },
  {
   "cell_type": "code",
   "execution_count": null,
   "id": "ef32c39d-c0af-40a5-aca9-3411d48a92bf",
   "metadata": {},
   "outputs": [],
   "source": [
    "with open(\"latest_data.xlsx\", \"wb\") as f:\n",
    "    f.write(response.content)"
   ]
  },
  {
   "cell_type": "code",
   "execution_count": null,
   "id": "d1819d66-5ea3-44b9-bb05-f8c175662d0e",
   "metadata": {},
   "outputs": [],
   "source": [
    "df = pd.read_excel(\"latest_data.xlsx\")\n",
    "df.to_csv(\"converted.csv\", index=False)"
   ]
  }
 ],
 "metadata": {
  "kernelspec": {
   "display_name": "Python [conda env:base] *",
   "language": "python",
   "name": "conda-base-py"
  },
  "language_info": {
   "codemirror_mode": {
    "name": "ipython",
    "version": 3
   },
   "file_extension": ".py",
   "mimetype": "text/x-python",
   "name": "python",
   "nbconvert_exporter": "python",
   "pygments_lexer": "ipython3",
   "version": "3.12.7"
  }
 },
 "nbformat": 4,
 "nbformat_minor": 5
}
