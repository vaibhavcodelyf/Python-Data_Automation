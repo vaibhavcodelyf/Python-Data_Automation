{
 "cells": [
  {
   "cell_type": "markdown",
   "id": "e187a0f8-d8c4-472d-8388-5f845e9870b8",
   "metadata": {},
   "source": [
    "Clean messy CSVs (remove nulls, fix column names, type conversion)."
   ]
  },
  {
   "cell_type": "code",
   "execution_count": null,
   "id": "52d28a5c-0759-4920-b8ce-f8a607436316",
   "metadata": {},
   "outputs": [],
   "source": [
    "import pandas as pd"
   ]
  },
  {
   "cell_type": "code",
   "execution_count": null,
   "id": "347dba7b-8230-4be9-a649-e35ff14b054e",
   "metadata": {},
   "outputs": [],
   "source": [
    "df = pd.read_csv(\"raw_data.csv\")\n",
    "df.columns = [col.strip().lower().replace(\" \", \"_\") for col in df.columns]\n",
    "df.dropna(inplace=True)\n",
    "df['date'] = pd.to_datetime(df['date'])"
   ]
  },
  {
   "cell_type": "code",
   "execution_count": null,
   "id": "16c25866-d3e9-4e8e-a510-cd0bfc4d0caf",
   "metadata": {},
   "outputs": [],
   "source": [
    "df.to_csv(\"cleaned_data.csv\", index=False)"
   ]
  }
 ],
 "metadata": {
  "kernelspec": {
   "display_name": "Python [conda env:base] *",
   "language": "python",
   "name": "conda-base-py"
  },
  "language_info": {
   "codemirror_mode": {
    "name": "ipython",
    "version": 3
   },
   "file_extension": ".py",
   "mimetype": "text/x-python",
   "name": "python",
   "nbconvert_exporter": "python",
   "pygments_lexer": "ipython3",
   "version": "3.12.7"
  }
 },
 "nbformat": 4,
 "nbformat_minor": 5
}
