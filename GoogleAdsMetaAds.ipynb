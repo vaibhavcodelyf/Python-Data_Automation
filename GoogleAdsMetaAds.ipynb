{
 "cells": [
  {
   "cell_type": "markdown",
   "id": "e5184ecc-0230-4c5a-b801-7937e5a92209",
   "metadata": {},
   "source": [
    "Pull daily ad performance data from Google Ads or Meta Ads."
   ]
  },
  {
   "cell_type": "code",
   "execution_count": null,
   "id": "2fb4a2e8-6ede-4f76-9e2d-c2bbfb8328bf",
   "metadata": {},
   "outputs": [],
   "source": [
    "import requests\n",
    "import pandas as pd"
   ]
  },
  {
   "cell_type": "code",
   "execution_count": null,
   "id": "2252bcca-f3b9-4707-8e6d-f1fdad5aa144",
   "metadata": {},
   "outputs": [],
   "source": [
    "url = \"https://api.example.com/data\"\n",
    "headers = {\"Authorization\": \"Bearer YOUR_TOKEN\"}\n"
   ]
  },
  {
   "cell_type": "code",
   "execution_count": null,
   "id": "b30d24b0-c0c8-4cb2-b53f-d6b944803679",
   "metadata": {},
   "outputs": [],
   "source": [
    "response = requests.get(url, headers=headers)\n",
    "data = response.json()"
   ]
  },
  {
   "cell_type": "code",
   "execution_count": null,
   "id": "ca784ba7-d39b-401c-a69b-905b052b865f",
   "metadata": {},
   "outputs": [],
   "source": [
    "df = pd.DataFrame(data['results'])\n",
    "df.to_csv(\"daily_report.csv\", index=False)"
   ]
  }
 ],
 "metadata": {
  "kernelspec": {
   "display_name": "Python [conda env:base] *",
   "language": "python",
   "name": "conda-base-py"
  },
  "language_info": {
   "codemirror_mode": {
    "name": "ipython",
    "version": 3
   },
   "file_extension": ".py",
   "mimetype": "text/x-python",
   "name": "python",
   "nbconvert_exporter": "python",
   "pygments_lexer": "ipython3",
   "version": "3.12.7"
  }
 },
 "nbformat": 4,
 "nbformat_minor": 5
}
