{
 "cells": [
  {
   "cell_type": "markdown",
   "id": "4ce35076-fa8c-449c-b531-29d5a4286c6f",
   "metadata": {},
   "source": [
    " Send status report after automation task."
   ]
  },
  {
   "cell_type": "code",
   "execution_count": null,
   "id": "9dbb9828-e0c6-4143-83a5-4926e70b9807",
   "metadata": {},
   "outputs": [],
   "source": [
    "import smtplib\n",
    "from email.mime.text import MIMEText"
   ]
  },
  {
   "cell_type": "code",
   "execution_count": null,
   "id": "9a7d410e-cb4c-4039-9111-db5d03769071",
   "metadata": {},
   "outputs": [],
   "source": [
    "msg = MIMEText(\"Data pipeline completed successfully!\")\n",
    "msg[\"Subject\"] = \"Pipeline Notification\"\n",
    "msg[\"From\"] = \"your@email.com\"\n",
    "msg[\"To\"] = \"team@email.com\""
   ]
  },
  {
   "cell_type": "code",
   "execution_count": null,
   "id": "af2e402e-a59c-4c3e-a907-87bf547a2962",
   "metadata": {},
   "outputs": [],
   "source": [
    "with smtplib.SMTP(\"smtp.example.com\") as server:\n",
    "    server.login(\"your@email.com\", \"password\")\n",
    "    server.send_message(msg)"
   ]
  }
 ],
 "metadata": {
  "kernelspec": {
   "display_name": "Python [conda env:base] *",
   "language": "python",
   "name": "conda-base-py"
  },
  "language_info": {
   "codemirror_mode": {
    "name": "ipython",
    "version": 3
   },
   "file_extension": ".py",
   "mimetype": "text/x-python",
   "name": "python",
   "nbconvert_exporter": "python",
   "pygments_lexer": "ipython3",
   "version": "3.12.7"
  }
 },
 "nbformat": 4,
 "nbformat_minor": 5
}
