{
 "cells": [
  {
   "cell_type": "markdown",
   "id": "5ab8d18d-4537-4f92-994a-6fddaa2d3b48",
   "metadata": {},
   "source": [
    "Run the ETL job daily at 8am."
   ]
  },
  {
   "cell_type": "code",
   "execution_count": null,
   "id": "67ad5651-abba-40df-a402-60af892fc478",
   "metadata": {},
   "outputs": [],
   "source": [
    "import schedule\n",
    "import time"
   ]
  },
  {
   "cell_type": "code",
   "execution_count": null,
   "id": "59850a71-833b-4dd7-bb23-defb08283d05",
   "metadata": {},
   "outputs": [],
   "source": [
    "def job():\n",
    "    print(\"Running ETL job...\")\n",
    "    # your ETL code here"
   ]
  },
  {
   "cell_type": "code",
   "execution_count": null,
   "id": "b10bb0e1-6a82-4b80-b46e-f225b37f88ee",
   "metadata": {},
   "outputs": [],
   "source": [
    "schedule.every().day.at(\"08:00\").do(job)"
   ]
  },
  {
   "cell_type": "code",
   "execution_count": null,
   "id": "f245a069-4ffd-41b7-bd25-d3fea19719d8",
   "metadata": {},
   "outputs": [],
   "source": [
    "while True:\n",
    "    schedule.run_pending()\n",
    "    time.sleep(60)"
   ]
  }
 ],
 "metadata": {
  "kernelspec": {
   "display_name": "Python [conda env:base] *",
   "language": "python",
   "name": "conda-base-py"
  },
  "language_info": {
   "codemirror_mode": {
    "name": "ipython",
    "version": 3
   },
   "file_extension": ".py",
   "mimetype": "text/x-python",
   "name": "python",
   "nbconvert_exporter": "python",
   "pygments_lexer": "ipython3",
   "version": "3.12.7"
  }
 },
 "nbformat": 4,
 "nbformat_minor": 5
}
